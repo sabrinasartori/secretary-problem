{
 "cells": [
  {
   "cell_type": "markdown",
   "metadata": {},
   "source": [
    "# https://www.cambridge.org/core/services/aop-cambridge-core/content/view/4444434237A80011E05DA54A65F35CD5/S0001867800003736a.pdf/secretary_problem_of_minimizing_the_expected_rank_a_simple_suboptimal_approach_with_generalizations.pdf\n",
    "\n",
    "# https://www.math.ucla.edu/~tom/Stopping/sr2.pdf 2.6"
   ]
  },
  {
   "cell_type": "code",
   "execution_count": 1,
   "metadata": {},
   "outputs": [],
   "source": [
    "import numpy as np \n",
    "import matplotlib.pyplot as plt"
   ]
  },
  {
   "cell_type": "markdown",
   "metadata": {},
   "source": [
    "## The rank minimization problem"
   ]
  },
  {
   "cell_type": "markdown",
   "metadata": {},
   "source": [
    "Previously, the goal of the classic Secretary Problem was to find a stopping rule that maximizes the probability of choosing the best among $n$ candidates. Now we will deveolp another version of the problem, which consists in finding a stopping rule that decides if $r$-th candidate is chosen based on its relative rank among the already interviewed candidates. Suppose this candidate is the $s$-th best among the $r$ interviewed. In summary, we need to minimize the absolute rank of the candidate selected, based on its relative rank $s$. D. V. Lindley introduced this problem in 1961."
   ]
  },
  {
   "cell_type": "code",
   "execution_count": 2,
   "metadata": {},
   "outputs": [],
   "source": [
    "n = 50\n",
    "candidates = np.arange(1,n+1)\n",
    "np.random.shuffle(candidates)"
   ]
  },
  {
   "cell_type": "code",
   "execution_count": 3,
   "metadata": {},
   "outputs": [
    {
     "data": {
      "text/plain": [
       "array([15, 38, 25, 39, 45, 16, 35, 11, 34, 18, 10, 33, 22, 13, 44, 24, 26,\n",
       "       32,  2, 20, 37, 36,  6, 41, 29, 23, 47, 17,  5, 46, 14,  9, 28, 31,\n",
       "       30, 21,  3,  1, 19, 40,  7, 42,  4, 50, 49, 12,  8, 43, 48, 27])"
      ]
     },
     "execution_count": 3,
     "metadata": {},
     "output_type": "execute_result"
    }
   ],
   "source": [
    "candidates"
   ]
  },
  {
   "cell_type": "markdown",
   "metadata": {},
   "source": [
    "Let $V(n)$ denote the expected absolute rank of the candidate selected. It was Chow, Moriguti, Robbins, and Samuels (1964) who first showed the following asymptotic result, when $n \\rightarrow \\infty$:\n",
    "\n",
    "$$\n",
    "V(n) \\rightarrow V(\\infty) = \\prod_{j=1}^{\\infty}\\left ( \\frac{j+2}{j} \\right )^{\\frac{1}{j+1}} = 3.8695\n",
    "$$"
   ]
  },
  {
   "cell_type": "markdown",
   "metadata": {},
   "source": [
    "The asymptotic form of the rule is to:\n",
    "\n",
    "* Pass on the first $\\gamma_0 n$ candidates\n",
    "* Choose the first candidate such that $s=1$ after $\\gamma_0 n$ candidates interviewed and before $\\gamma_1 n$ candidates interviewed (i.e., $\\gamma_0 n < r \\leq \\gamma_1 n$)\n",
    "* If no candidate was chosen before, choose the first candidate such that $s=1$ or $s=2$ and $\\gamma_1 n < r \\leq \\gamma_2 n$\n",
    "* Repeat this process until choosing a candidate"
   ]
  },
  {
   "cell_type": "markdown",
   "metadata": {},
   "source": [
    "From Ferguson, when $n \\rightarrow \\infty$, we have $\\gamma_0 = 0.2584$, $\\gamma_1 = 0.4476$, $\\gamma_2 = 0.5640$ and, for large $x$, $\\gamma_x = 1 − \\frac{2}{x+1} + O(\\frac{1}{x^3})$."
   ]
  },
  {
   "cell_type": "code",
   "execution_count": 6,
   "metadata": {},
   "outputs": [
    {
     "name": "stdout",
     "output_type": "stream",
     "text": [
      "13\n",
      "41\n"
     ]
    }
   ],
   "source": [
    "n = 50\n",
    "gamma = [0.2584, 0.4476, 0.5640]\n",
    "best_from_rejected = np.min(candidates[0 : int(gamma[0]*n)])\n",
    "cadidates_interval = candidates[int(gamma[0]*n)+1 : int(gamma[1]*n)+1]\n",
    "for c in cadidates_interval:\n",
    "    if c > best_from_rejected:\n",
    "        print(c)\n",
    "        break\n",
    "cadidates_interval = candidates[int(gamma[1]*n)+1 : int(gamma[2]*n)+1]\n",
    "best_from_rejected = np.min(candidates[0 : int(gamma[1]*n)])\n",
    "for c in cadidates_interval:\n",
    "    if c > best_from_rejected:\n",
    "        print(c)\n",
    "        break"
   ]
  },
  {
   "cell_type": "code",
   "execution_count": 4,
   "metadata": {},
   "outputs": [
    {
     "data": {
      "text/plain": [
       "50"
      ]
     },
     "execution_count": 4,
     "metadata": {},
     "output_type": "execute_result"
    }
   ],
   "source": []
  }
 ],
 "metadata": {
  "kernelspec": {
   "display_name": "base",
   "language": "python",
   "name": "python3"
  },
  "language_info": {
   "codemirror_mode": {
    "name": "ipython",
    "version": 3
   },
   "file_extension": ".py",
   "mimetype": "text/x-python",
   "name": "python",
   "nbconvert_exporter": "python",
   "pygments_lexer": "ipython3",
   "version": "3.8.5"
  }
 },
 "nbformat": 4,
 "nbformat_minor": 2
}
