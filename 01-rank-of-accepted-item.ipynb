{
 "cells": [
  {
   "cell_type": "code",
   "execution_count": 186,
   "metadata": {},
   "outputs": [],
   "source": [
    "import numpy as np \n",
    "import matplotlib.pyplot as plt\n",
    "import pandas as pd"
   ]
  },
  {
   "cell_type": "markdown",
   "metadata": {},
   "source": [
    "## The Secretary problem"
   ]
  },
  {
   "cell_type": "markdown",
   "metadata": {},
   "source": [
    "# https://www.imrankhan.dev/pages/Solving%20the%20secretary%20problem%20with%20Python.html\n",
    "# https://github.com/RoyZhang7/secretary-problem/blob/master/project4.pptx.pdf\n",
    "# https://changyaochen.github.io/secretary-problem/"
   ]
  },
  {
   "cell_type": "markdown",
   "metadata": {},
   "source": [
    "The secretary problem consists of a scenario where an administrator wants to hire the best secretary out of \n",
    "$n$ candidates for a position, who are ranked from best to worst. These candidates are interviewed in a random order and one at a time, and after each interview they are either rejected or accepted, in which case the decision is final. \n",
    "\n",
    "The solution tho this problem should maximise the probability of recruiting the best candidate."
   ]
  },
  {
   "cell_type": "code",
   "execution_count": 187,
   "metadata": {},
   "outputs": [],
   "source": [
    "n = 100\n",
    "candidates = np.arange(1,n+1)\n",
    "np.random.shuffle(candidates)"
   ]
  },
  {
   "cell_type": "code",
   "execution_count": 188,
   "metadata": {},
   "outputs": [
    {
     "data": {
      "text/plain": [
       "array([ 70,  19,  20,  78,  86,  87,  26,  73,  22,  84, 100,   6,  28,\n",
       "        40,  27,  63,  17,  91,   8,   9,  30,  90,  66,  34,  71,  25,\n",
       "        37,  64,  48,   2,  55,  35,  83,  75,  38,   7,  52,  58,  62,\n",
       "        98,  92,  94,  54,   3,   1,  80,  45,  18,  10,  69,  32,  49,\n",
       "        41,  74,  12,   5,  44,  33,  42,  79,  51,  29,  47,  77,  88,\n",
       "        61,  39,  57,  82,  21,  11,  14,  99,  95,  65,  59,  36,   4,\n",
       "        85,  67,  76,  56,  50,  24,  68,  72,  81,  97,  13,  96,  15,\n",
       "        43,  89,  53,  31,  60,  16,  93,  46,  23])"
      ]
     },
     "execution_count": 188,
     "metadata": {},
     "output_type": "execute_result"
    }
   ],
   "source": [
    "candidates"
   ]
  },
  {
   "cell_type": "markdown",
   "metadata": {},
   "source": [
    "## The optimal stopping strategy"
   ]
  },
  {
   "cell_type": "markdown",
   "metadata": {},
   "source": [
    "The solution to this problem consists of finding the rank $r^*<n$ such that the first $r^*-1$ candidates are rejected and the cadidate accepted is the next applicant who is better than all the first $r^*-1$ interviewed.\n",
    "\n",
    "Let $i$ be the position of the best candidate. This candidate will be accepted if:\n",
    "\n",
    "* $i \\geq r^*$\n",
    "* The best ranked candidate between positions $[1,i-1]$ is between positions $[1,r^*-1]$\n",
    "\n",
    "The probability of having the best candidate in position $i$ is $\\frac{1}{n}$ and the probability of having the last condition above is $\\frac{r^*-1}{i-1}$."
   ]
  },
  {
   "cell_type": "markdown",
   "metadata": {},
   "source": [
    "Let our probability of success, i.e., the probability of choosing the best candidate among the $n$, be $P(r)$.\n",
    "\n",
    "Then we have:\n",
    "\n",
    "$$\n",
    "P(r^*) = \\sum_{i = r^*}^{n} \\frac{1}{n} \\left( \\frac{r^*-1}{i-1} \\right) = \\frac{r^*-1}{n} \\sum_{i = r^*}^{n} \\frac{1}{i-1}\n",
    "$$\n",
    "\n",
    "We can notice that $P(r^*)$ is the Riemann approximation of an integral. Calling the ratio $x = \\frac{r^*-1}{n}$ and taking the limit when $n \\rightarrow \\infty$:\n",
    "\n",
    "$$\n",
    "P(r^*) = \\lim_{n\\rightarrow \\infty} \\frac{r^*-1}{n} \\sum_{i = r^*}^{n} \\frac{1}{i-1} = x \\int_{x}^{1}\\frac{1}{t} dt = -x lnx\n",
    "$$"
   ]
  },
  {
   "cell_type": "markdown",
   "metadata": {},
   "source": [
    "If we maximize the above expression, we get the optimal result:\n",
    "\n",
    "$$\n",
    "x = \\frac{1}{e} \\Rightarrow r^* - 1 = \\frac{n}{e}\n",
    "$$"
   ]
  },
  {
   "cell_type": "markdown",
   "metadata": {},
   "source": [
    "Finally, the optimal solution is to reject the first $\\frac{n}{e}$ candidates and chose the first candidate who is better than the $\\frac{n}{e}$ candidates rejected. In the case where there is no better candidate interviewed, choose the last one."
   ]
  },
  {
   "cell_type": "code",
   "execution_count": 189,
   "metadata": {},
   "outputs": [],
   "source": [
    "stop = int(round(n/np.e))\n",
    "best_from_rejected = np.min(candidates[:stop])\n",
    "candidates_left = candidates[stop:]"
   ]
  },
  {
   "cell_type": "code",
   "execution_count": 190,
   "metadata": {},
   "outputs": [
    {
     "data": {
      "text/plain": [
       "1"
      ]
     },
     "execution_count": 190,
     "metadata": {},
     "output_type": "execute_result"
    }
   ],
   "source": [
    "chosen_candidate = 0\n",
    "for c in candidates_left:\n",
    "    if c < best_from_rejected:\n",
    "        chosen_candidate = c\n",
    "        break\n",
    "\n",
    "chosen_candidate"
   ]
  },
  {
   "cell_type": "code",
   "execution_count": 191,
   "metadata": {},
   "outputs": [],
   "source": [
    "def choose_candidate(n):\n",
    "    candidates = np.arange(1,n+1)\n",
    "    np.random.shuffle(candidates)\n",
    "\n",
    "    stop = int(round(n/np.e))\n",
    "    best_rejected_candidate = np.min(candidates[:stop])\n",
    "    candidates_left = candidates[stop:]\n",
    "    \n",
    "    for c in candidates_left:\n",
    "        if c < best_rejected_candidate:\n",
    "            return c\n",
    "    return candidates_left[-1]"
   ]
  },
  {
   "cell_type": "markdown",
   "metadata": {},
   "source": [
    "## Simulating the optimal strategy"
   ]
  },
  {
   "cell_type": "markdown",
   "metadata": {},
   "source": [
    "Now let's simulate 10000 times the problem, with $n=100$ candidates"
   ]
  },
  {
   "cell_type": "code",
   "execution_count": 192,
   "metadata": {},
   "outputs": [],
   "source": [
    "N = 10_000\n",
    "n = 100\n",
    "results = []\n",
    "\n",
    "for sim in range(N):\n",
    "    results.append(choose_candidate(n))\n",
    "\n",
    "results = pd.Series(results)"
   ]
  },
  {
   "cell_type": "code",
   "execution_count": 193,
   "metadata": {},
   "outputs": [
    {
     "data": {
      "image/png": "[encoded data removed]",
      "text/plain": [
       "<Figure size 720x432 with 1 Axes>"
      ]
     },
     "metadata": {
      "needs_background": "light"
     },
     "output_type": "display_data"
    }
   ],
   "source": [
    "plt.figure(figsize=(10,6))\n",
    "plt.hist(results, bins=n)\n",
    "plt.xlim(1,n)\n",
    "plt.title(f'Simulation for n={n} candidates')\n",
    "plt.xlabel('Chosen candidate')\n",
    "plt.ylabel('Frequency')\n",
    "plt.show()"
   ]
  },
  {
   "cell_type": "markdown",
   "metadata": {},
   "source": [
    "Most of the times the best candidate (number 1) is chosen and, if not him, there is a high chance of choosing one of the best $10%$ candidates. This can be seen by plotting the cumulative density function of the distribution:"
   ]
  },
  {
   "cell_type": "code",
   "execution_count": 194,
   "metadata": {},
   "outputs": [
    {
     "data": {
      "image/png": "[encoded data removed]",
      "text/plain": [
       "<Figure size 720x432 with 1 Axes>"
      ]
     },
     "metadata": {
      "needs_background": "light"
     },
     "output_type": "display_data"
    }
   ],
   "source": [
    "plt.figure(figsize=(10,6))\n",
    "plt.plot(np.cumsum(np.histogram(results, bins=n)[0])/N)\n",
    "plt.ylim(0,1)\n",
    "plt.xlim(0,n)\n",
    "plt.title(f'Cumulative density function for n={n} candidates')\n",
    "plt.xlabel('Chosen candidate')\n",
    "plt.ylabel('Cumulative probability')\n",
    "plt.show()"
   ]
  },
  {
   "cell_type": "markdown",
   "metadata": {},
   "source": [
    "We see that $37\\%$ of the simulations were a success, and the probability of choosing one of the best 5 candidates is $63\\%$:"
   ]
  },
  {
   "cell_type": "code",
   "execution_count": 195,
   "metadata": {},
   "outputs": [
    {
     "data": {
      "text/plain": [
       "1     0.3731\n",
       "2     0.1408\n",
       "3     0.0672\n",
       "4     0.0340\n",
       "5     0.0187\n",
       "       ...  \n",
       "62    0.0028\n",
       "98    0.0026\n",
       "39    0.0026\n",
       "99    0.0026\n",
       "89    0.0025\n",
       "Name: proportion, Length: 100, dtype: float64"
      ]
     },
     "execution_count": 195,
     "metadata": {},
     "output_type": "execute_result"
    }
   ],
   "source": [
    "results = pd.Series(results)\n",
    "results.value_counts(1)"
   ]
  },
  {
   "cell_type": "code",
   "execution_count": 196,
   "metadata": {},
   "outputs": [
    {
     "data": {
      "text/plain": [
       "0.6338000000000001"
      ]
     },
     "execution_count": 196,
     "metadata": {},
     "output_type": "execute_result"
    }
   ],
   "source": [
    "results.value_counts(1).sort_index().head(5).sum()"
   ]
  },
  {
   "cell_type": "markdown",
   "metadata": {},
   "source": [
    "## Simulating other strategies"
   ]
  },
  {
   "cell_type": "markdown",
   "metadata": {},
   "source": [
    "We can also show that the strategy previously described is optimal, i.e., is the one that leads to a higher probability of choosing the best candidate. To do it, we'll change the stopping rule and reject other values than $\\frac{1}{e}$% of the candidates. The fraction of candidates rejected will vary from $0.05$ to $1$ with steps of $0.01$."
   ]
  },
  {
   "cell_type": "code",
   "execution_count": 197,
   "metadata": {},
   "outputs": [],
   "source": [
    "def choose_candidate_not_opt(n, rejection_rate):\n",
    "    candidates = np.arange(1,n+1)\n",
    "    np.random.shuffle(candidates)\n",
    "\n",
    "    stop = int(round(rejection_rate*n)) \n",
    "    best_rejected_candidate = np.min(candidates[:stop])\n",
    "    candidates_left = candidates[stop:]\n",
    "\n",
    "    for c in candidates_left:\n",
    "        if c < best_rejected_candidate:\n",
    "            return c\n",
    "    return candidates[-1]"
   ]
  },
  {
   "cell_type": "code",
   "execution_count": 198,
   "metadata": {},
   "outputs": [],
   "source": [
    "N = 10_000\n",
    "n = 100\n",
    "prob_choose_best = []\n",
    "rates = np.arange(0.05,1,0.01)\n",
    "\n",
    "for r in rates:\n",
    "    results = []\n",
    "    for sim in range(N):\n",
    "        results.append(choose_candidate_not_opt(n,r))\n",
    "    prob_choose_best.append(results.count(1)/N)\n",
    "\n",
    "prob_choose_best = pd.Series(prob_choose_best)\n"
   ]
  },
  {
   "cell_type": "code",
   "execution_count": 199,
   "metadata": {},
   "outputs": [
    {
     "data": {
      "image/png": "[encoded data removed]",
      "text/plain": [
       "<Figure size 720x432 with 1 Axes>"
      ]
     },
     "metadata": {
      "needs_background": "light"
     },
     "output_type": "display_data"
    }
   ],
   "source": [
    "plt.figure(figsize=(10,6))\n",
    "plt.scatter(rates*100,prob_choose_best)\n",
    "plt.xlim(0,100)\n",
    "plt.title(\"Probability of choosing best candidate\")\n",
    "plt.xlabel(\"% of candidates rejected\")\n",
    "plt.ylabel(\"Probability\")\n",
    "plt.grid()\n",
    "plt.axvline(1/np.e*100, ls='--', c='black', label='% optimal')\n",
    "plt.legend()\n",
    "plt.show()"
   ]
  },
  {
   "cell_type": "markdown",
   "metadata": {},
   "source": [
    "We can see that the rejection percentage that maximizes the probability of choosing the best candidate is $37\\%$, which was expected from the optimal strategy derived above"
   ]
  },
  {
   "cell_type": "code",
   "execution_count": 200,
   "metadata": {},
   "outputs": [
    {
     "data": {
      "text/plain": [
       "0.36787944117144233"
      ]
     },
     "execution_count": 200,
     "metadata": {},
     "output_type": "execute_result"
    }
   ],
   "source": [
    "1/np.e"
   ]
  },
  {
   "cell_type": "code",
   "execution_count": 201,
   "metadata": {},
   "outputs": [
    {
     "data": {
      "text/plain": [
       "0.37    0.3752\n",
       "0.36    0.3748\n",
       "0.33    0.3734\n",
       "0.34    0.3716\n",
       "0.39    0.3708\n",
       "         ...  \n",
       "0.95    0.0479\n",
       "0.96    0.0403\n",
       "0.97    0.0304\n",
       "0.98    0.0186\n",
       "0.99    0.0114\n",
       "Length: 95, dtype: float64"
      ]
     },
     "execution_count": 201,
     "metadata": {},
     "output_type": "execute_result"
    }
   ],
   "source": [
    "prob_choose_best.index = rates\n",
    "prob_choose_best.sort_values(ascending=False)"
   ]
  }
 ],
 "metadata": {
  "kernelspec": {
   "display_name": "base",
   "language": "python",
   "name": "python3"
  },
  "language_info": {
   "codemirror_mode": {
    "name": "ipython",
    "version": 3
   },
   "file_extension": ".py",
   "mimetype": "text/x-python",
   "name": "python",
   "nbconvert_exporter": "python",
   "pygments_lexer": "ipython3",
   "version": "3.8.5"
  }
 },
 "nbformat": 4,
 "nbformat_minor": 2
}
