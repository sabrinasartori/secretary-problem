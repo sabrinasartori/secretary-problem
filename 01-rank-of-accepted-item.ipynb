{
 "cells": [
  {
   "cell_type": "code",
   "execution_count": 1,
   "metadata": {},
   "outputs": [],
   "source": [
    "import numpy as np \n",
    "import matplotlib.pyplot as plt"
   ]
  },
  {
   "cell_type": "markdown",
   "metadata": {},
   "source": [
    "## The Secretary problem"
   ]
  },
  {
   "cell_type": "markdown",
   "metadata": {},
   "source": [
    "# https://www.imrankhan.dev/pages/Solving%20the%20secretary%20problem%20with%20Python.html\n",
    "# https://github.com/RoyZhang7/secretary-problem/blob/master/project4.pptx.pdf\n",
    "# https://changyaochen.github.io/secretary-problem/"
   ]
  },
  {
   "cell_type": "markdown",
   "metadata": {},
   "source": [
    "The secretary problem consists of a scenario where an administrator wants to hire the best secretary out of \n",
    "$n$ candidates for a position, who are ranked from best to worst. These candidates are interviewed in a random order and one at a time, and after each interview they are either rejected or accepted, in which case the decision is final. \n",
    "\n",
    "The solution tho this problem should maximise the probability of recruiting the best candidate."
   ]
  },
  {
   "cell_type": "code",
   "execution_count": 13,
   "metadata": {},
   "outputs": [],
   "source": [
    "n = 50\n",
    "candidates = np.arange(1,n+1)\n",
    "np.random.shuffle(candidates)"
   ]
  },
  {
   "cell_type": "code",
   "execution_count": 14,
   "metadata": {},
   "outputs": [
    {
     "data": {
      "text/plain": [
       "array([11, 34, 38, 36, 35,  4, 13, 27, 50, 22, 23, 33, 19, 28,  5, 25, 14,\n",
       "        3,  1, 45, 18, 16,  9,  8, 40, 42, 31, 10,  6, 48, 37,  7,  2, 32,\n",
       "       43, 39, 21, 26, 20, 49, 46, 24, 12, 15, 29, 30, 44, 47, 41, 17])"
      ]
     },
     "execution_count": 14,
     "metadata": {},
     "output_type": "execute_result"
    }
   ],
   "source": [
    "candidates"
   ]
  },
  {
   "cell_type": "markdown",
   "metadata": {},
   "source": [
    "## The optimal stopping strategy"
   ]
  },
  {
   "cell_type": "markdown",
   "metadata": {},
   "source": [
    "The solution to this problem consists of finding the rank $r^*<n$ such that the first $r^*-1$ candidates are rejected and the cadidate accepted is the next applicant who is better than all the first $r^*-1$ interviewed.\n",
    "\n",
    "Let $i$ be the position of the best candidate. This candidate will be accepted if:\n",
    "\n",
    "* $i \\geq r^*$\n",
    "* The best ranked candidate between positions $[1,i-1]$ is between positions $[1,r^*-1]$\n",
    "\n",
    "The probability of having the best candidate in position $i$ is $\\frac{1}{n}$ and the probability of having the last condition above is $\\frac{r^*-1}{i-1}$."
   ]
  },
  {
   "cell_type": "markdown",
   "metadata": {},
   "source": [
    "Let our probability of success, i.e., the probability of choosing the best candidate among the $n$, be $P(r)$.\n",
    "\n",
    "Then we have:\n",
    "\n",
    "$$\n",
    "P(r^*) = \\sum_{i = r^*}^{n} \\frac{1}{n} \\left( \\frac{r^*-1}{i-1} \\right) = \\frac{r^*-1}{n} \\sum_{i = r^*}^{n} \\frac{1}{i-1}\n",
    "$$\n",
    "\n",
    "We can notice that $P(r^*)$ is the Riemann approximation of an integral. Calling the ratio $x = \\frac{r^*-1}{n}$ and taking the limit when $n \\rightarrow \\infty$:\n",
    "\n",
    "$$\n",
    "P(r^*) = \\lim_{n\\rightarrow \\infty} \\frac{r^*-1}{n} \\sum_{i = r^*}^{n} \\frac{1}{i-1} = x \\int_{x}^{1}\\frac{1}{t} dt = -x lnx\n",
    "$$"
   ]
  },
  {
   "cell_type": "markdown",
   "metadata": {},
   "source": [
    "If we maximize the above expression, we get the optimal result:\n",
    "\n",
    "$$\n",
    "x = \\frac{1}{e} \\Rightarrow r^* - 1 = \\frac{n}{e}\n",
    "$$"
   ]
  },
  {
   "cell_type": "markdown",
   "metadata": {},
   "source": [
    "Finally, the optimal solution is to reject the first $\\frac{n}{e}$ candidates and chose the first candidate who is better than the $\\frac{n}{e}$ candidates rejected. In the case where there is no better candidate interviewed, choose the last one."
   ]
  },
  {
   "cell_type": "code",
   "execution_count": 15,
   "metadata": {},
   "outputs": [],
   "source": [
    "stop = int(round(n/np.e))\n",
    "best_from_rejected = np.min(candidates[:stop])\n",
    "candidates_left = candidates[stop:]"
   ]
  },
  {
   "cell_type": "code",
   "execution_count": 16,
   "metadata": {},
   "outputs": [
    {
     "data": {
      "text/plain": [
       "1"
      ]
     },
     "execution_count": 16,
     "metadata": {},
     "output_type": "execute_result"
    }
   ],
   "source": [
    "chosen_candidate = 0\n",
    "for c in candidates_left:\n",
    "    if c < best_from_rejected:\n",
    "        chosen_candidate = c\n",
    "        break\n",
    "\n",
    "chosen_candidate"
   ]
  },
  {
   "cell_type": "code",
   "execution_count": 7,
   "metadata": {},
   "outputs": [],
   "source": [
    "def choose_candidate(n):\n",
    "    candidates = np.arange(1,n+1)\n",
    "    np.random.shuffle(candidates)\n",
    "\n",
    "    stop = int(round(n/np.e))\n",
    "    best_rejected_candidate = np.min(candidates[:stop])\n",
    "    candidates_left = candidates[stop:]\n",
    "    \n",
    "    for c in candidates_left:\n",
    "        if c < best_rejected_candidate:\n",
    "            return c\n",
    "    return candidates_left[-1]"
   ]
  },
  {
   "cell_type": "markdown",
   "metadata": {},
   "source": [
    "## Simulating the optimal strategy"
   ]
  },
  {
   "cell_type": "markdown",
   "metadata": {},
   "source": [
    "Now let's simulate 10000 times the problem, with $n=50$ candidates"
   ]
  },
  {
   "cell_type": "code",
   "execution_count": 18,
   "metadata": {},
   "outputs": [],
   "source": [
    "N = 10_000\n",
    "n = 50\n",
    "results = []\n",
    "\n",
    "for sim in range(N):\n",
    "    results.append(choose_candidate(n))"
   ]
  },
  {
   "cell_type": "code",
   "execution_count": 23,
   "metadata": {},
   "outputs": [
    {
     "data": {
      "image/png": "[encoded data removed]",
      "text/plain": [
       "<Figure size 720x432 with 1 Axes>"
      ]
     },
     "metadata": {
      "needs_background": "light"
     },
     "output_type": "display_data"
    }
   ],
   "source": [
    "plt.figure(figsize=(10,6))\n",
    "plt.hist(results, bins=n)\n",
    "plt.xlim(1,n)\n",
    "plt.title(f'Simulation for n={n} candidates')\n",
    "plt.xlabel('Chosen candidate')\n",
    "plt.ylabel('Frequency')\n",
    "plt.show()"
   ]
  },
  {
   "cell_type": "markdown",
   "metadata": {},
   "source": [
    "Most of the times the best candidate (number 1) is chosen and, if not him, there is a high chance of choosing one of the best $10%$ candidates. This can be seen by plotting the cumulative density function of the distribution:"
   ]
  },
  {
   "cell_type": "code",
   "execution_count": 25,
   "metadata": {},
   "outputs": [
    {
     "data": {
      "image/png": "[encoded data removed]",
      "text/plain": [
       "<Figure size 720x432 with 1 Axes>"
      ]
     },
     "metadata": {
      "needs_background": "light"
     },
     "output_type": "display_data"
    }
   ],
   "source": [
    "plt.figure(figsize=(10,6))\n",
    "plt.plot(np.cumsum(np.histogram(results, bins=n)[0])/N)\n",
    "plt.ylim(0,1)\n",
    "plt.xlim(0,n)\n",
    "plt.title(f'Cumulative density function for n={n} candidates')\n",
    "plt.xlabel('Chosen candidate')\n",
    "plt.ylabel('Cumulative probability')\n",
    "plt.show()"
   ]
  },
  {
   "cell_type": "markdown",
   "metadata": {},
   "source": [
    "## Simulating other strategies"
   ]
  },
  {
   "cell_type": "markdown",
   "metadata": {},
   "source": [
    "We can also show that the strategy previously described is optimal, i.e., is the one that leads to a higher probability of choosing the best candidate. To do it, we'll change the stopping rule and reject other values than $\\frac{1}{e}$% of the candidates."
   ]
  },
  {
   "cell_type": "code",
   "execution_count": 41,
   "metadata": {},
   "outputs": [],
   "source": [
    "def choose_candidate_not_opt(n, rejection_rate):\n",
    "    candidates = np.arange(1,n+1)\n",
    "    np.random.shuffle(candidates)\n",
    "\n",
    "    stop = int(round(rejection_rate*n)) \n",
    "    best_rejected_candidate = np.min(candidates[:stop])\n",
    "    candidates_left = candidates[stop:]\n",
    "\n",
    "    for c in candidates_left:\n",
    "        if c < best_rejected_candidate:\n",
    "            return c\n",
    "    return candidates[-1]"
   ]
  },
  {
   "cell_type": "code",
   "execution_count": 42,
   "metadata": {},
   "outputs": [],
   "source": [
    "N = 10_000\n",
    "n = 50\n",
    "prob_choose_best = []\n",
    "rates = np.arange(0.05,1,0.05)\n",
    "\n",
    "for r in rates:\n",
    "    results = []\n",
    "    for sim in range(N):\n",
    "        results.append(choose_candidate_not_opt(n,r))\n",
    "    prob_choose_best.append(results.count(1)/N)\n"
   ]
  },
  {
   "cell_type": "code",
   "execution_count": 53,
   "metadata": {},
   "outputs": [
    {
     "data": {
      "image/png": "[encoded data removed]",
      "text/plain": [
       "<Figure size 720x432 with 1 Axes>"
      ]
     },
     "metadata": {
      "needs_background": "light"
     },
     "output_type": "display_data"
    }
   ],
   "source": [
    "plt.figure(figsize=(10,6))\n",
    "plt.scatter(rates*100,prob_choose_best)\n",
    "plt.xlim(0,100)\n",
    "plt.title(\"Probability of choosing best candidate\")\n",
    "plt.xlabel(\"% of candidates rejected\")\n",
    "plt.ylabel(\"Probability\")\n",
    "plt.grid()\n",
    "plt.axvline(1/np.e*100, ls='--', c='black', label='% optimal')\n",
    "plt.legend()\n",
    "plt.show()"
   ]
  }
 ],
 "metadata": {
  "kernelspec": {
   "display_name": "base",
   "language": "python",
   "name": "python3"
  },
  "language_info": {
   "codemirror_mode": {
    "name": "ipython",
    "version": 3
   },
   "file_extension": ".py",
   "mimetype": "text/x-python",
   "name": "python",
   "nbconvert_exporter": "python",
   "pygments_lexer": "ipython3",
   "version": "3.8.5"
  }
 },
 "nbformat": 4,
 "nbformat_minor": 2
}
