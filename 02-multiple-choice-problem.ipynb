{
 "cells": [
  {
   "cell_type": "code",
   "execution_count": 119,
   "metadata": {},
   "outputs": [],
   "source": [
    "import numpy as np \n",
    "import matplotlib.pyplot as plt\n",
    "import pandas as pd"
   ]
  },
  {
   "cell_type": "markdown",
   "metadata": {},
   "source": [
    "## The k-Secretary problem"
   ]
  },
  {
   "cell_type": "markdown",
   "metadata": {},
   "source": [
    "Another version of the Secretary problem is the case when the administrator has to accept $k$ candidates out of the $n$.\n",
    "The solution to this new problem should also maximise the probability of recruiting the best candidate, i.e., the chances of having the best ranked candidate among the $k$ chosen."
   ]
  },
  {
   "cell_type": "code",
   "execution_count": 2,
   "metadata": {},
   "outputs": [],
   "source": [
    "n = 50\n",
    "candidates = np.arange(1,n+1)\n",
    "np.random.shuffle(candidates)"
   ]
  },
  {
   "cell_type": "code",
   "execution_count": 3,
   "metadata": {},
   "outputs": [
    {
     "data": {
      "text/plain": [
       "array([50, 26, 43, 10, 27, 45, 47, 38, 37, 21, 31,  7, 25, 20,  5, 29, 34,\n",
       "       28, 15, 17,  9,  8,  6, 14,  4, 33, 39,  2,  3, 19, 46, 18, 40, 12,\n",
       "       41, 32, 16, 48, 49, 42, 36, 44, 23,  1, 30, 35, 24, 13, 11, 22])"
      ]
     },
     "execution_count": 3,
     "metadata": {},
     "output_type": "execute_result"
    }
   ],
   "source": [
    "candidates"
   ]
  },
  {
   "cell_type": "markdown",
   "metadata": {},
   "source": [
    "## Strategy for $k = 2$"
   ]
  },
  {
   "cell_type": "markdown",
   "metadata": {},
   "source": [
    "The solution to this problem consists of finding the positions $r_2^*<r_1^*<n$ such that, initially, the first $r_2^*-1$ candidates are rejected and the first cadidate accepted is the next applicant who is better than all the first $r_2^*-1$ interviewed. After the choice of the first candidate, the ones who haven't been interviewed are compared to the first $r_1^*-1$ interviewed, and the second chosen candidate is the next applicant who is better than all the first $r_1^*-1$ interviewed. The steps are the following:\n",
    "\n",
    "* Reject the first $r_2^*-1$ candidates, and compare the following ones to the best of these rejected\n",
    "* Choose the first candidate better than the best out of the first $r_2^* - 1$\n",
    "    * If there is no better candidate, or the chosen candidate is the $n-1$-th interviewed, the two selected candidates are the two last ones\n",
    "* If you haven't interviewed the first $r_1^*-1$ candidates yet, reject the ones remaining until this position\n",
    "* Choose the first candidate better than the best out of the first $r_1^* - 1$\n",
    "    * If there is no better candidate, choose the last one"
   ]
  },
  {
   "cell_type": "markdown",
   "metadata": {},
   "source": [
    "Gilbert and Mosteller found numerical values for $r_1^*$ and $r_2^*$:\n",
    "\n",
    "$$\n",
    "r_1^* - 1 = \\frac{n}{e}\n",
    "$$\n",
    "$$\n",
    "r_2^* - 1 = \\frac{n}{e^{3/2}}\n",
    "$$"
   ]
  },
  {
   "cell_type": "markdown",
   "metadata": {},
   "source": [
    "We see that the value of $r_1^*$ is the same as for the classic secretary problem with $k=1$."
   ]
  },
  {
   "cell_type": "code",
   "execution_count": 120,
   "metadata": {},
   "outputs": [],
   "source": [
    "def choose_candidate(n):\n",
    "    chosen_candidates = []\n",
    "    candidates = np.arange(1,n+1)\n",
    "    np.random.shuffle(candidates)\n",
    "\n",
    "    stop1 = int(round(n/(np.e)**(3/2)))\n",
    "    stop2 = int(round(n/(np.e)))\n",
    "\n",
    "    best_to_compare1 = np.min(candidates[:stop1])\n",
    "    best_to_compare2 = np.min(candidates[:stop2])\n",
    "    \n",
    "    for idx1 in range(stop1 + 1, n):\n",
    "        c = candidates[idx1]\n",
    "        if c < best_to_compare1:\n",
    "            chosen_candidates.append(c)\n",
    "            break\n",
    "\n",
    "    if idx1 == n-1 or idx1 == n-2 or len(chosen_candidates)==0:\n",
    "        return list(candidates[-2:])\n",
    "    \n",
    "\n",
    "    for idx2 in range(max(stop2+1, idx1+1), n):\n",
    "        c = candidates[idx2]\n",
    "        if c < best_to_compare2:\n",
    "            chosen_candidates.append(c)\n",
    "            break\n",
    "    \n",
    "    if len(chosen_candidates)==1:\n",
    "        chosen_candidates.append(candidates[-1])\n",
    "        return chosen_candidates\n",
    "    \n",
    "    return chosen_candidates\n",
    "    "
   ]
  },
  {
   "cell_type": "markdown",
   "metadata": {},
   "source": [
    "## Simulating the optimal strategy"
   ]
  },
  {
   "cell_type": "markdown",
   "metadata": {},
   "source": [
    "Now let's simulate 10000 times the problem, with $n=50$ candidates"
   ]
  },
  {
   "cell_type": "code",
   "execution_count": 121,
   "metadata": {},
   "outputs": [],
   "source": [
    "N = 10_000\n",
    "n = 50\n",
    "results = []\n",
    "\n",
    "for sim in range(N):\n",
    "    results.append(choose_candidate(n))"
   ]
  },
  {
   "cell_type": "code",
   "execution_count": 123,
   "metadata": {},
   "outputs": [
    {
     "data": {
      "text/plain": [
       "0.5628"
      ]
     },
     "execution_count": 123,
     "metadata": {},
     "output_type": "execute_result"
    }
   ],
   "source": [
    "res_df = pd.DataFrame(results)\n",
    "((res_df == 1).sum(axis= 1)).sum()/res_df.shape[0]"
   ]
  },
  {
   "cell_type": "code",
   "execution_count": 125,
   "metadata": {},
   "outputs": [
    {
     "data": {
      "image/png": "[encoded data removed]",
      "text/plain": [
       "<Figure size 720x432 with 1 Axes>"
      ]
     },
     "metadata": {
      "needs_background": "light"
     },
     "output_type": "display_data"
    }
   ],
   "source": [
    "df = res_df.min(axis = 1).sort_values().reset_index(drop=True)\n",
    "plt.figure(figsize=(10,6))\n",
    "plt.hist(df, bins=n)\n",
    "plt.xlim(1,n)\n",
    "plt.title(f'Simulation for the 2-Secretary Problem for n={n} candidates')\n",
    "plt.xlabel('Chosen candidate')\n",
    "plt.ylabel('Frequency')\n",
    "plt.show()"
   ]
  },
  {
   "cell_type": "markdown",
   "metadata": {},
   "source": [
    "Most of the times the best candidate (number 1) is chosen and, if not him, there is a high chance of choosing one of the best $10%$ candidates. This can be seen by plotting the cumulative density function of the distribution:"
   ]
  },
  {
   "cell_type": "code",
   "execution_count": null,
   "metadata": {},
   "outputs": [
    {
     "data": {
      "image/png": "[encoded data removed]",
      "text/plain": [
       "<Figure size 720x432 with 1 Axes>"
      ]
     },
     "metadata": {},
     "output_type": "display_data"
    }
   ],
   "source": [
    "plt.figure(figsize=(10,6))\n",
    "plt.plot(np.cumsum(np.histogram(results, bins=n)[0])/N)\n",
    "plt.ylim(0,1)\n",
    "plt.xlim(0,n)\n",
    "plt.title(f'Cumulative density function for n={n} candidates')\n",
    "plt.xlabel('Chosen candidate')\n",
    "plt.ylabel('Cumulative probability')\n",
    "plt.show()"
   ]
  }
 ],
 "metadata": {
  "kernelspec": {
   "display_name": "base",
   "language": "python",
   "name": "python3"
  },
  "language_info": {
   "codemirror_mode": {
    "name": "ipython",
    "version": 3
   },
   "file_extension": ".py",
   "mimetype": "text/x-python",
   "name": "python",
   "nbconvert_exporter": "python",
   "pygments_lexer": "ipython3",
   "version": "3.8.5"
  }
 },
 "nbformat": 4,
 "nbformat_minor": 2
}
