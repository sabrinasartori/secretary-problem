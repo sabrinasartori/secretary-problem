{
 "cells": [
  {
   "cell_type": "markdown",
   "metadata": {},
   "source": [
    "# https://www.cambridge.org/core/services/aop-cambridge-core/content/view/4444434237A80011E05DA54A65F35CD5/S0001867800003736a.pdf/secretary_problem_of_minimizing_the_expected_rank_a_simple_suboptimal_approach_with_generalizations.pdf"
   ]
  }
 ],
 "metadata": {
  "language_info": {
   "name": "python"
  }
 },
 "nbformat": 4,
 "nbformat_minor": 2
}
